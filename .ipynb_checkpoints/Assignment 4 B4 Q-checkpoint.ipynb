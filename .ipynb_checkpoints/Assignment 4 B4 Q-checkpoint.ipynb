{
 "cells": [
  {
   "cell_type": "markdown",
   "id": "f50c28f8-19de-40ce-b6fe-360f1542676f",
   "metadata": {},
   "source": [
    "1-\n",
    "\n",
    "text = 'hello python world'\n",
    "\n",
    "Replace spaces with underscores in the string (e.g., \"hello python world\" → \"hello_python_world\").\n",
    "\n",
    "Split the modified string (e.g., \"hello_python_world\" → ['hello', 'python', 'world']).\n",
    "\n",
    "Print all two results\n",
    "\n",
    "Hint: Use string methods"
   ]
  },
  {
   "cell_type": "code",
   "execution_count": 34,
   "id": "ffad630a-2d66-4a95-9f09-24bd15723306",
   "metadata": {},
   "outputs": [
    {
     "data": {
      "text/plain": [
       "'hello_python_world'"
      ]
     },
     "execution_count": 34,
     "metadata": {},
     "output_type": "execute_result"
    }
   ],
   "source": [
    "text = \"hello python world\"\n",
    "modified_text = text.replace(' ', '_')\n",
    "modified_text"
   ]
  },
  {
   "cell_type": "markdown",
   "id": "f36c5e03-9efc-40f9-833c-23864268173e",
   "metadata": {},
   "source": [
    "2- You have a product code that follows the format \"SKU-12345-XYZ\".\n",
    "\n",
    "Find the first position of the dash (-).\n",
    "\n",
    "Count the number of dashes (-) in the product code.\n",
    "\n",
    "Remove the \"SKU-\" prefix and \"-XYZ\" suffix from the product code, Extract the numeric part 12345\n",
    "\n",
    "product_code = \"SKU-12345-XYZ\"\n",
    "\n",
    "Hint: Use String Methods"
   ]
  },
  {
   "cell_type": "code",
   "execution_count": 40,
   "id": "02670539-cbab-4f69-8b52-34576713d8f3",
   "metadata": {},
   "outputs": [
    {
     "name": "stdout",
     "output_type": "stream",
     "text": [
      "3\n",
      "2\n",
      "12345\n"
     ]
    }
   ],
   "source": [
    "product_code = \"SKU-12345-XYZ\"\n",
    "print(product_code.find('-'))\n",
    "print(product_code.count(\"-\"))\n",
    "numeric_part = product_code.removeprefix(\"SKU-\").removesuffix(\"-XYZ\")\n",
    "print(numeric_part)"
   ]
  },
  {
   "cell_type": "markdown",
   "id": "0d504f74-c0d6-4890-9580-7890bc1dcb43",
   "metadata": {},
   "source": [
    "3- Convert a string to Title Case.\n",
    "\n",
    "text_1 = \"hello world\"\n"
   ]
  },
  {
   "cell_type": "code",
   "execution_count": 41,
   "id": "54e8ccee-ea57-4f8f-a091-b40c490dfd50",
   "metadata": {},
   "outputs": [
    {
     "data": {
      "text/plain": [
       "'Hello World'"
      ]
     },
     "execution_count": 41,
     "metadata": {},
     "output_type": "execute_result"
    }
   ],
   "source": [
    "text_1 = \"hello world\"\n",
    "text_1.title()"
   ]
  },
  {
   "cell_type": "markdown",
   "id": "69a00670-3bd2-4380-bfd6-46f87255ef19",
   "metadata": {},
   "source": [
    "4- Capitalize the first letter of a string.\n",
    "\n",
    "text_2 = \"python programming\""
   ]
  },
  {
   "cell_type": "code",
   "execution_count": 42,
   "id": "968a7efe-b9e4-49c3-8a72-3f1681027047",
   "metadata": {},
   "outputs": [
    {
     "data": {
      "text/plain": [
       "'Python programming'"
      ]
     },
     "execution_count": 42,
     "metadata": {},
     "output_type": "execute_result"
    }
   ],
   "source": [
    "text_2 = \"python programming\"\n",
    "text_2.capitalize()"
   ]
  },
  {
   "cell_type": "markdown",
   "id": "24a9ded0-9b42-4107-bdd3-da5af3dc1414",
   "metadata": {},
   "source": [
    "5- Given the string below, write Python code to:\n",
    "\n",
    "Convert the string so that each word starts with a capital letter\n",
    "\n",
    "Then swap the case of every letter in the resulting string\n",
    "\n",
    "Print the final result.\n",
    "\n",
    "text1 = \"learning PYTHON is AWESOME\""
   ]
  },
  {
   "cell_type": "code",
   "execution_count": 47,
   "id": "8678e39d-dbe6-4de4-b79f-3b961ffe0687",
   "metadata": {},
   "outputs": [
    {
     "name": "stdout",
     "output_type": "stream",
     "text": [
      "Learning Python Is Awesome\n",
      "LEARNING python IS awesome\n"
     ]
    }
   ],
   "source": [
    "text1 = \"learning PYTHON is AWESOME\"\n",
    "print(text1.title())\n",
    "print(text1.swapcase())\n"
   ]
  },
  {
   "cell_type": "markdown",
   "id": "99163be0-8b38-4d39-a4d6-8099e6a6eee7",
   "metadata": {},
   "source": [
    "6- \n",
    "\n",
    "Write Python code to check and print whether the string satisfies the following:\n",
    "\n",
    "Is alphanumeric?\n",
    "\n",
    "Is alphabetic only?\n",
    "\n",
    "text2 = \"HelloWorld123\"\n"
   ]
  },
  {
   "cell_type": "code",
   "execution_count": 52,
   "id": "0389cb81-dcfb-46c3-93ec-3ca51145c507",
   "metadata": {},
   "outputs": [
    {
     "name": "stdout",
     "output_type": "stream",
     "text": [
      "True\n",
      "False\n"
     ]
    }
   ],
   "source": [
    "text2 = \"HelloWorld123\"\n",
    "print(text2.isalnum())\n",
    "print(text2.isalpha())"
   ]
  },
  {
   "cell_type": "markdown",
   "id": "86df8b45-2f46-4da8-b56b-e8967309738d",
   "metadata": {},
   "source": [
    "7- \n",
    "\n",
    "Write Python code to check and print whether the string satisfies the following:\n",
    "\n",
    "Is the string made up of digits only?\n",
    "\n",
    "Is the string all lowercase?\n",
    "\n",
    "text3 = \"helloworld\""
   ]
  },
  {
   "cell_type": "code",
   "execution_count": 54,
   "id": "23aa32b5-4c59-489a-8aef-3a45b3e05af8",
   "metadata": {},
   "outputs": [
    {
     "name": "stdout",
     "output_type": "stream",
     "text": [
      "False\n",
      "True\n"
     ]
    }
   ],
   "source": [
    "text3 = \"helloworld\"\n",
    "print(text3.isdigit())\n",
    "print(text3.islower())"
   ]
  },
  {
   "cell_type": "markdown",
   "id": "d5abaffa-dab0-4c62-94a6-7639e02d4753",
   "metadata": {},
   "source": [
    "8-\n",
    "\n",
    "Write Python code to check and print whether the string satisfies the following:\n",
    "\n",
    "Is the string all uppercase?\n",
    "\n",
    "Is the string titlecased?\n",
    "\n",
    "text4 = 'Hi We Are Learning Python'"
   ]
  },
  {
   "cell_type": "code",
   "execution_count": 60,
   "id": "730d0a7a-46b0-43c6-b60f-5c3540d6b059",
   "metadata": {},
   "outputs": [
    {
     "name": "stdout",
     "output_type": "stream",
     "text": [
      "False\n",
      "True\n"
     ]
    }
   ],
   "source": [
    "text4 = 'Hi We Are Learning Python'\n",
    "print(text4.isupper())\n",
    "print(text4.istitle())"
   ]
  },
  {
   "cell_type": "markdown",
   "id": "005214b5-3e90-488d-9f1a-19fa65b5c830",
   "metadata": {},
   "source": [
    "9- \n",
    "\n",
    "Write Python code to check and print whether the string:\n",
    "\n",
    "Starts with \"data\"\n",
    "\n",
    "Ends with \".csv\"\n",
    "\n",
    "text5 = \"data_report_2023.csv\"\n"
   ]
  },
  {
   "cell_type": "code",
   "execution_count": 57,
   "id": "6390693c-8410-4832-a43b-b2455f232cf4",
   "metadata": {},
   "outputs": [
    {
     "name": "stdout",
     "output_type": "stream",
     "text": [
      "True\n",
      "True\n"
     ]
    }
   ],
   "source": [
    "text5 = \"data_report_2023.csv\"\n",
    "print(text5.startswith(\"data\"))\n",
    "print(text5.endswith(\".csv\"))"
   ]
  },
  {
   "cell_type": "markdown",
   "id": "80bc03e1-c9aa-4c73-ab02-8065a93f0ce5",
   "metadata": {},
   "source": [
    "10-\n",
    "\n",
    "Write Python code to:\n",
    "\n",
    "Count how many times \"banana\" appears in the string.\n",
    "\n",
    "fruit = \"banana bandana banana\"\n"
   ]
  },
  {
   "cell_type": "code",
   "execution_count": 59,
   "id": "13193e78-920a-45db-9c98-c89e8c270ecd",
   "metadata": {},
   "outputs": [
    {
     "data": {
      "text/plain": [
       "2"
      ]
     },
     "execution_count": 59,
     "metadata": {},
     "output_type": "execute_result"
    }
   ],
   "source": [
    "fruit = \"banana bandana banana\"\n",
    "fruit.count(\"banana\")"
   ]
  },
  {
   "cell_type": "code",
   "execution_count": null,
   "id": "d8bd3ef0-48a3-41ff-9d7c-fd4122da9388",
   "metadata": {},
   "outputs": [],
   "source": []
  }
 ],
 "metadata": {
  "kernelspec": {
   "display_name": "Python 3 (ipykernel)",
   "language": "python",
   "name": "python3"
  },
  "language_info": {
   "codemirror_mode": {
    "name": "ipython",
    "version": 3
   },
   "file_extension": ".py",
   "mimetype": "text/x-python",
   "name": "python",
   "nbconvert_exporter": "python",
   "pygments_lexer": "ipython3",
   "version": "3.12.7"
  }
 },
 "nbformat": 4,
 "nbformat_minor": 5
}
