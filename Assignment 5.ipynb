{
 "cells": [
  {
   "cell_type": "markdown",
   "id": "02c93f40-2462-4008-89ac-402b9c4e637c",
   "metadata": {},
   "source": [
    "Q1. An e-commerce store stores information about its products in a nested dictionary. The outer dictionary uses product IDs as keys, and the inner dictionary stores product details like name, category, price, and stock quantity. products = { 101: {\"name\": \"Laptop\", \"category\": \"Electronics\", \"price\": 1200, \"stock\": 50}, 102: {\"name\": \"Shirt\", \"category\": \"Apparel\", \"price\": 25, \"stock\": 200}, 103: {\"name\": \"Coffee Maker\", \"category\": \"Home Appliances\", \"price\": 80, \"stock\": 30} }\n",
    "\n",
    "• Increase the stock of the \"Shirt\" product (add 50 more units) using increment/decrement operators\n",
    "\n",
    "• Add a new product (e.g., \"Smartphone\")\n",
    "\n",
    "Expected Output:\n",
    "\n",
    "{101: {'name': 'Laptop', 'category': 'Electronics', 'price': 1200, 'stock': 50}, 102: {'name': 'Shirt', 'category': 'Apparel', 'price': 25, 'stock': 250}, 103: {'name': 'Coffee Maker', 'category': 'Home Appliances', 'price': 80, 'stock': 30}}\n",
    "{101: {'name': 'Laptop', 'category': 'Electronics', 'price': 1200, 'stock': 50}, 102: {'name': 'Shirt', 'category': 'Apparel', 'price': 25, 'stock': 250}, 103: {'name': 'Coffee Maker', 'category': 'Home Appliances', 'price': 80, 'stock': 30}, 104: {'name': 'Smartphone', 'category': 'Electronics', 'price': 800, 'stock': 100}}"
   ]
  },
  {
   "cell_type": "code",
   "execution_count": 1,
   "id": "569f7d7b-8982-4c41-8db4-582bc6fd29fe",
   "metadata": {},
   "outputs": [
    {
     "data": {
      "text/plain": [
       "{101: {'name': 'Laptop',\n",
       "  'category': 'Electronics',\n",
       "  'price': 1200,\n",
       "  'stock': 50},\n",
       " 102: {'name': 'Shirt', 'category': 'Apparel', 'price': 25, 'stock': 250},\n",
       " 103: {'name': 'Coffee Maker',\n",
       "  'category': 'Home Appliances',\n",
       "  'price': 80,\n",
       "  'stock': 30},\n",
       " 104: {'name': 'smart phone',\n",
       "  'category': 'Electronics',\n",
       "  'price': 1000,\n",
       "  'stock': 350}}"
      ]
     },
     "execution_count": 1,
     "metadata": {},
     "output_type": "execute_result"
    }
   ],
   "source": [
    "product_inf = {101: {\"name\": \"Laptop\", \"category\": \"Electronics\", \"price\": 1200, \"stock\": 50},\n",
    "  102: {\"name\": \"Shirt\", \"category\": \"Apparel\", \"price\": 25, \"stock\": 200},\n",
    "  103: {\"name\": \"Coffee Maker\", \"category\": \"Home Appliances\", \"price\": 80, \"stock\": 30}}\n",
    "product_inf[102][\"stock\"] +=50\n",
    "product_inf\n",
    "\n",
    "product_inf[104] = {\"name\": \"smart phone\", \"category\": \"Electronics\", \"price\": 1000, \"stock\": 350}\n",
    "product_inf"
   ]
  },
  {
   "cell_type": "markdown",
   "id": "38374151-536f-489a-a18b-c52649f20110",
   "metadata": {},
   "source": [
    "Q2. You are given a list that contains some duplicate items. Remove the duplicates by converting the list to a set. Final output should be in list\n",
    "\n",
    "shopping_list = [\"apple\", \"banana\", \"apple\", \"orange\", \"banana\", \"grape\"]\n",
    "\n",
    "Expected Output:\n",
    "['apple', 'grape', 'banana', 'orange']"
   ]
  },
  {
   "cell_type": "code",
   "execution_count": 42,
   "id": "ee2fda04-571a-487a-9e12-ccc112c14f67",
   "metadata": {},
   "outputs": [
    {
     "data": {
      "text/plain": [
       "['grape', 'orange', 'apple', 'banana']"
      ]
     },
     "execution_count": 42,
     "metadata": {},
     "output_type": "execute_result"
    }
   ],
   "source": [
    "shopping_list = [\"apple\", \"banana\", \"apple\", \"orange\", \"banana\", \"grape\"]\n",
    "shopping_list2 = list(set(shopping_list))\n",
    "shopping_list2"
   ]
  },
  {
   "cell_type": "markdown",
   "id": "6024ec14-7264-4e36-bcea-da9e8044e483",
   "metadata": {},
   "source": [
    "Q3. You are managing a list of students enrolled in two different courses. You need to perform various set operations to understand the student enrollment. Task: Create two sets: one for students in \"Course A\" and one for students in \"Course B\". Find the students who are in \"Course A\" but not in \"Course B\" (difference). Find students who are only in one of the two courses (symmetric difference). course_a = {\"John\", \"Alice\", \"Bob\", \"David\"} course_b = {\"Alice\", \"Eve\", \"Charlie\", \"David\"}\n",
    "\n",
    "Using set methods\n",
    "\n",
    "• Find students who are in Course A but not in Course B (difference)\n",
    "\n",
    "• Find students who are only in one of the two courses (symmetric difference)\n",
    "\n",
    "Expected Output:\n",
    "\n",
    "Students in Course A but not in Course B: {'Bob', 'John'}\n",
    "\n",
    "Students only in one of the two courses: {'Eve', 'John', 'Bob', 'Charlie'}\n"
   ]
  },
  {
   "cell_type": "code",
   "execution_count": 2,
   "id": "b185a502-58ca-42f7-947a-a57aed3e9569",
   "metadata": {},
   "outputs": [
    {
     "name": "stdout",
     "output_type": "stream",
     "text": [
      "{'Bob', 'John'}\n",
      "{'Eve', 'Charlie', 'Bob', 'John'}\n"
     ]
    }
   ],
   "source": [
    "course_a = {\"John\", \"Alice\", \"Bob\", \"David\"}\n",
    "course_b = {\"Alice\", \"Eve\", \"Charlie\", \"David\"}\n",
    "\n",
    "print(course_a - course_b)\n",
    "print(course_a ^ course_b)"
   ]
  },
  {
   "cell_type": "markdown",
   "id": "41da432a-3038-4868-803e-fe40f55c9983",
   "metadata": {},
   "source": [
    "Q4. Write a Python program to store and display the details of a book.\n",
    "\n",
    "The program should ask the user to input the following information:\n",
    "\n",
    "Title of the book\n",
    "\n",
    "Author’s name\n",
    "\n",
    "Year of publication\n",
    "\n",
    "Price of the booK\n",
    "\n",
    "Store the entered details in a tuple.\n",
    "\n",
    "Finally, display the book details in a proper format as shown below:\n",
    "\n",
    "Expected Output:\n",
    "\n",
    "Title: Harry Potter\n",
    "\n",
    "Author: JK Rowlings\n",
    "\n",
    "Year of Publication: 2000\n",
    "\n",
    "Price: $180.0"
   ]
  },
  {
   "cell_type": "code",
   "execution_count": 3,
   "id": "bb01bc83-b25e-43b9-a6e9-aa9e6a65f547",
   "metadata": {},
   "outputs": [
    {
     "name": "stdin",
     "output_type": "stream",
     "text": [
      "enter title of the book:  Harry Potter\n",
      "enter author name:  JK Rowling\n",
      "enter year of publication:  2000\n",
      "enter price of the book:  $180\n"
     ]
    },
    {
     "data": {
      "text/plain": [
       "('Harry Potter', 'JK Rowling', '2000', '$180')"
      ]
     },
     "execution_count": 3,
     "metadata": {},
     "output_type": "execute_result"
    }
   ],
   "source": [
    "Title = input(\"enter title of the book: \")\n",
    "\n",
    "Author = input(\"enter author name: \")\n",
    "\n",
    "Year_of_publication = input(\"enter year of publication: \")\n",
    "\n",
    "Price = input(\"enter price of the book: \")\n",
    "\n",
    "book_detail = (Title, Author, Year_of_publication, Price)\n",
    "book_detail"
   ]
  },
  {
   "cell_type": "markdown",
   "id": "48347612-e98e-4b10-b9e7-69dd64a27cd3",
   "metadata": {},
   "source": [
    "Q5. Write a program to check if a user’s chosen subject is available in the list of offered subjects.\n",
    "\n",
    "Instructions:\n",
    "\n",
    "Given a list of subjects, ask the user to input a subject.\n",
    "\n",
    "Display whether the subject is available or not.\n",
    "\n",
    "Expected Output:\n",
    "\n",
    "Enter the subject you are interested in:  art\n",
    "\n",
    "art is available."
   ]
  },
  {
   "cell_type": "code",
   "execution_count": 1,
   "id": "3cbb7a48-b6db-4d0a-ad93-016ba1f0f94c",
   "metadata": {},
   "outputs": [
    {
     "name": "stdin",
     "output_type": "stream",
     "text": [
      "enter a subject art\n"
     ]
    },
    {
     "name": "stdout",
     "output_type": "stream",
     "text": [
      "art is available\n"
     ]
    }
   ],
   "source": [
    "offered_subject = [\"science\",\"maths\", \"english\", \"islamiat\", \"art\", \"urdu\"]\n",
    "offered_subject\n",
    "subject = input(\"enter a subject\").lower()\n",
    "\n",
    "if subject in offered_subject:\n",
    "  print(subject, \"is available\")\n",
    "else:\n",
    "  print(subject, \"not available\")"
   ]
  },
  {
   "cell_type": "markdown",
   "id": "11ffc986-b30a-4cd9-8416-44c6da950d00",
   "metadata": {},
   "source": [
    "Q6. Write a Python program that asks the user to enter a number.\n",
    "\n",
    "If the number is greater than 0, print \"Positive\".\n",
    "\n",
    "If the number is less than 0, print \"Negative\".\n",
    "\n",
    "If the number is exactly 0, print \"Zero\".\n",
    "\n",
    "Expected Output:\n",
    "\n",
    "Enter a number:  2\n",
    "\n",
    "The number is Positive\n",
    "\n",
    "---\n",
    "\n",
    "Enter a number:  0\n",
    "\n",
    "The number is Zero\n",
    "\n",
    "---\n",
    "\n",
    "Enter a number:  -1\n",
    "\n",
    "The number is Negative"
   ]
  },
  {
   "cell_type": "code",
   "execution_count": 4,
   "id": "e0040410-83ca-4552-8e92-4613ac318996",
   "metadata": {},
   "outputs": [
    {
     "name": "stdin",
     "output_type": "stream",
     "text": [
      "enter a number 2\n"
     ]
    },
    {
     "name": "stdout",
     "output_type": "stream",
     "text": [
      "positive\n"
     ]
    },
    {
     "name": "stdin",
     "output_type": "stream",
     "text": [
      "enter a number 0\n"
     ]
    },
    {
     "name": "stdout",
     "output_type": "stream",
     "text": [
      "zero\n"
     ]
    },
    {
     "name": "stdin",
     "output_type": "stream",
     "text": [
      "enter a number -1\n"
     ]
    },
    {
     "name": "stdout",
     "output_type": "stream",
     "text": [
      "negative\n"
     ]
    }
   ],
   "source": [
    "# output 1\n",
    "number = int(input(\"enter a number\"))\n",
    "if number > 0:\n",
    "  print(\"positive\")\n",
    "elif number  < 0:\n",
    "  print(\"negative\")\n",
    "else:\n",
    "  print(\"zero\")\n",
    "# output 2\n",
    "number = int(input(\"enter a number\"))\n",
    "if number > 0:\n",
    "  print(\"positive\")\n",
    "elif number  < 0:\n",
    "  print(\"negative\")\n",
    "else:\n",
    "  print(\"zero\")\n",
    "# output 3\n",
    "number = int(input(\"enter a number\"))\n",
    "if number > 0:\n",
    "  print(\"positive\")\n",
    "elif number  < 0:\n",
    "  print(\"negative\")\n",
    "else:\n",
    "  print(\"zero\")"
   ]
  },
  {
   "cell_type": "markdown",
   "id": "2c3a8b52-5013-4999-bdfe-5248b957ad74",
   "metadata": {},
   "source": [
    "Q7. Write a Python program that simulates a simple login system.\n",
    "\n",
    "The correct username is 'admin' and the correct password is 'admin@123'\n",
    "\n",
    "The program should take username and password as input from the user.\n",
    "\n",
    "It should check the input and display messages according to the following conditions:\n",
    "\n",
    "- If both username and password are correct → print \"Login Successful\".\n",
    "\n",
    "- If username is wrong but password is correct → print \"Invalid Username\".\n",
    "\n",
    "- If username is correct but password is wrong → print \"Invalid Password\".\n",
    "\n",
    "- If both username and password are wrong → print \"Invalid Username and Password\"."
   ]
  },
  {
   "cell_type": "code",
   "execution_count": 5,
   "id": "5ab41ed8-5520-418b-97bf-f92974edad4d",
   "metadata": {},
   "outputs": [
    {
     "name": "stdin",
     "output_type": "stream",
     "text": [
      "enter username admin\n",
      "enter password ADMIN@1234\n"
     ]
    },
    {
     "name": "stdout",
     "output_type": "stream",
     "text": [
      "invalid password\n"
     ]
    }
   ],
   "source": [
    "#  simple login system\n",
    "username = 'admin'\n",
    "password = 'admin@123'\n",
    "\n",
    "username = input(\"enter username\")\n",
    "password = input(\"enter password\")\n",
    "\n",
    "if username == \"admin\" and password == \"admin@123\":\n",
    "  print(\"Login successful\")\n",
    "elif username != \"admin\" and password == \"admin@123\":\n",
    "  print(\"Invalid username\")\n",
    "elif username == \"admin\" and password != \"admin@123\":\n",
    "  print(\"invalid password\")\n",
    "else:\n",
    "  print(\"Invalid Username and Password\")"
   ]
  },
  {
   "cell_type": "markdown",
   "id": "5c799583-5206-449c-b370-4007ec0382f2",
   "metadata": {},
   "source": [
    "Q8.\n",
    "\n",
    "student_details = {\n",
    "    \"Ali\": {\"age\": 20, \"grade\": \"A\", \"city\": \"Karachi\"},\n",
    "    \"Sara\": {\"age\": 21, \"grade\": \"B\", \"city\": \"Lahore\"},\n",
    "    \"Omar\": {\"age\": 19, \"grade\": \"A\", \"city\": \"Islamabad\"},\n",
    "    \"Hina\": {\"age\": 22, \"grade\": \"C\", \"city\": \"Faisalabad\"}\n",
    "}\n",
    "\n",
    "- Add a new student using method:\n",
    "  \"Zara\": {\"age\": 20, \"grade\": \"B\", \"city\": \"Multan\"}\n",
    "\n",
    "- Remove a student \"Omer\" using method\n",
    "\n",
    "Expected Output:\n",
    "\n",
    "{'Ali': {'age': 20, 'grade': 'A', 'city': 'Karachi'}, 'Sara': {'age': 21, 'grade': 'B', 'city': 'Lahore'}, 'Hina': {'age': 22, 'grade': 'C', 'city': 'Faisalabad'}, 'Zara': {'age': 20, 'grade': 'B', 'city': 'Multan'}}\n",
    "  "
   ]
  },
  {
   "cell_type": "code",
   "execution_count": 6,
   "id": "9b246231-c765-47ef-8034-86b702a14da9",
   "metadata": {},
   "outputs": [
    {
     "data": {
      "text/plain": [
       "{'Ali': {'age': 20, 'grade': 'A', 'city': 'Karachi'},\n",
       " 'Sara': {'age': 21, 'grade': 'B', 'city': 'Lahore'},\n",
       " 'Hina': {'age': 22, 'grade': 'C', 'city': 'Faisalabad'},\n",
       " 'Zara': {'age': 20, 'grade': 'B', 'city': 'Multan'}}"
      ]
     },
     "execution_count": 6,
     "metadata": {},
     "output_type": "execute_result"
    }
   ],
   "source": [
    "student_details = { \"Ali\": {\"age\": 20, \"grade\": \"A\", \"city\": \"Karachi\"},\n",
    "                   \"Sara\": {\"age\": 21, \"grade\": \"B\", \"city\": \"Lahore\"},\n",
    "                    \"Omar\": {\"age\": 19, \"grade\": \"A\", \"city\": \"Islamabad\"},\n",
    "                    \"Hina\": {\"age\": 22, \"grade\": \"C\", \"city\": \"Faisalabad\"} }\n",
    "student_details[\"Zara\"]= {\"age\": 20, \"grade\": \"B\", \"city\": \"Multan\"}\n",
    "student_details\n",
    "\n",
    "student_details.pop(\"Omar\")\n",
    "student_details"
   ]
  },
  {
   "cell_type": "markdown",
   "id": "f5c1e4f9-1b24-4c6e-b94d-10e4511df8d8",
   "metadata": {},
   "source": [
    "Q9. Write program to check a person’s eligibility for a loan based on age, credit score, and income. This time, the eligibility criteria will be:\n",
    "\n",
    "The person must be 18 years or older. The person must have a credit score of 650 or higher. The person must have an annual income of at least 30000 dollars If the person has a credit score of 700 or higher, they may still be eligible with an income of 25000 dollars or more.\n",
    "\n",
    "Expected Output:\n",
    "\n",
    "Enter your age:  22\n",
    "\n",
    "Enter your credit score:  888\n",
    "\n",
    "Enter your annual income: $ 800000\n",
    "\n",
    "You are eligible for the loan!\n",
    "\n",
    "---\n",
    "\n",
    "Enter your age:  15\n",
    "\n",
    "Enter your credit score:  800\n",
    "\n",
    "Enter your annual income: $ 900000\n",
    "\n",
    "You are not eligible for the loan due to age.\n",
    "\n",
    "---\n",
    "\n",
    "Enter your age:  35\n",
    "\n",
    "Enter your credit score:  99\n",
    "\n",
    "Enter your annual income: $ 900000\n",
    "\n",
    "You are not eligible for the loan due to low credit score."
   ]
  },
  {
   "cell_type": "code",
   "execution_count": 30,
   "id": "2a955979-8407-4817-a0fa-72145c9da1aa",
   "metadata": {},
   "outputs": [
    {
     "name": "stdin",
     "output_type": "stream",
     "text": [
      "enter your age : 22\n",
      "enter your credit score:  888\n",
      "enter your annual income:  800000\n"
     ]
    },
    {
     "name": "stdout",
     "output_type": "stream",
     "text": [
      "You are eligible for the loan!\n"
     ]
    }
   ],
   "source": [
    "#output no 1:\n",
    "# person’s_eligibility\n",
    "age = int(input(\"enter your age :\"))\n",
    "credit_score = int(input(\"enter your credit score: \"))\n",
    "annual_income = int(input(\"enter your annual income: \"))\n",
    "if age <=18:\n",
    "    print(\"You are not eligible for the loan due to age!\")\n",
    "elif credit_score <650:\n",
    "    print(\"You are not eligible for the loan due to credit!\")\n",
    "elif (credit_score >= 700 and annual_income >= 25000) or (credit_score >= 650 and annual_income >= 30000):\n",
    "    print(\"You are eligible for the loan!\")\n",
    "else:\n",
    "    print(\"You are not eligible for the loan due to low income.\")"
   ]
  },
  {
   "cell_type": "code",
   "execution_count": 33,
   "id": "d38b1455-4433-4db8-8662-6028d50d2029",
   "metadata": {},
   "outputs": [
    {
     "name": "stdin",
     "output_type": "stream",
     "text": [
      "enter your age : 15\n",
      "enter your credit score:  800\n",
      "enter your annual income:  900000\n"
     ]
    },
    {
     "name": "stdout",
     "output_type": "stream",
     "text": [
      "You are not eligible for the loan due to age!\n"
     ]
    }
   ],
   "source": [
    "# output no 2\n",
    "# person’s_eligibility\n",
    "age = int(input(\"enter your age :\"))\n",
    "credit_score = int(input(\"enter your credit score: \"))\n",
    "annual_income = int(input(\"enter your annual income: \"))\n",
    "if age <=18:\n",
    "    print(\"You are not eligible for the loan due to age!\")\n",
    "elif credit_score <650:\n",
    "    print(\"You are not eligible for the loan due to credit!\")\n",
    "elif (credit_score >= 700 and annual_income >= 25000) or (credit_score >= 650 and annual_income >= 30000):\n",
    "    print(\"You are eligible for the loan!\")\n",
    "else:\n",
    "    print(\"You are not eligible for the loan due to low income.\")"
   ]
  },
  {
   "cell_type": "code",
   "execution_count": 34,
   "id": "2eb6413c-5eb2-48b5-a210-b7322d3647f6",
   "metadata": {},
   "outputs": [
    {
     "name": "stdin",
     "output_type": "stream",
     "text": [
      "enter your age : 35\n",
      "enter your credit score:  99\n",
      "enter your annual income:  900000\n"
     ]
    },
    {
     "name": "stdout",
     "output_type": "stream",
     "text": [
      "You are not eligible for the loan due to credit!\n"
     ]
    }
   ],
   "source": [
    "# output no 3\n",
    "# person’s_eligibility\n",
    "age = int(input(\"enter your age :\"))\n",
    "credit_score = int(input(\"enter your credit score: \"))\n",
    "annual_income = int(input(\"enter your annual income: \"))\n",
    "if age <=18:\n",
    "    print(\"You are not eligible for the loan due to age!\")\n",
    "elif credit_score <650:\n",
    "    print(\"You are not eligible for the loan due to credit!\")\n",
    "elif (credit_score >= 700 and annual_income >= 25000) or (credit_score >= 650 and annual_income >= 30000):\n",
    "    print(\"You are eligible for the loan!\")\n",
    "else:\n",
    "    print(\"You are not eligible for the loan due to low income.\")"
   ]
  },
  {
   "cell_type": "markdown",
   "id": "2b4c034e-a69a-4124-a1ea-497bce36c7a9",
   "metadata": {},
   "source": [
    "Q10. Write a Python program to check whether the entered letter is a vowel, a consonant, or invalid input.\n",
    "\n",
    "The program should take a single character as input. If the character is a vowel (a, e, i, o, u in both upper and lower case), it will print \"Vowel\". If it is an alphabet but not a vowel, it will print \"Consonant\". Otherwise, it will print \"Please enter valid alphabet\".\n",
    "\n",
    "Expected Output:\n",
    "\n",
    "Enter a single letter:  a\n",
    "\n",
    "a is a Vowel\n",
    "\n",
    "---\n",
    "\n",
    "Enter a single letter:  E\n",
    "\n",
    "E is a Vowel\n",
    "\n",
    "---\n",
    "\n",
    "Enter a single letter:  z\n",
    "\n",
    "z is a Consonant\n",
    "\n",
    "---\n",
    "\n",
    "Enter a single letter:  7\n",
    "\n",
    "Please enter valid alphabet\n"
   ]
  },
  {
   "cell_type": "code",
   "execution_count": 20,
   "id": "592f2c90-68da-4501-8d18-eef878d8ff07",
   "metadata": {},
   "outputs": [
    {
     "name": "stdin",
     "output_type": "stream",
     "text": [
      "Enter a single character:  A\n"
     ]
    },
    {
     "name": "stdout",
     "output_type": "stream",
     "text": [
      "Vowel\n"
     ]
    },
    {
     "name": "stdin",
     "output_type": "stream",
     "text": [
      "Enter a single character:  d\n"
     ]
    },
    {
     "name": "stdout",
     "output_type": "stream",
     "text": [
      "Consonant\n"
     ]
    },
    {
     "name": "stdin",
     "output_type": "stream",
     "text": [
      "Enter a single character:  7\n"
     ]
    },
    {
     "name": "stdout",
     "output_type": "stream",
     "text": [
      "Please enter valid alphabet\n"
     ]
    }
   ],
   "source": [
    "# enter capital letter A\n",
    "ch = input(\"Enter a single character: \")\n",
    "\n",
    "if len(ch) == 1 and ch.isalpha():\n",
    "    if ch.lower() in ['a', 'e', 'i', 'o', 'u']:\n",
    "        print(\"Vowel\")\n",
    "    else:\n",
    "        print(\"Consonant\")\n",
    "else:\n",
    "    print(\"Please enter valid alphabet\")\n",
    "ch = input(\"Enter a single character: \")\n",
    "#enter consonant\n",
    "if len(ch) == 1 and ch.isalpha():\n",
    "    if ch.lower() in ['a', 'e', 'i', 'o', 'u']:\n",
    "        print(\"Vowel\")\n",
    "    else:\n",
    "        print(\"Consonant\")\n",
    "else:\n",
    "    print(\"Please enter valid alphabet\")\n",
    "\n",
    "# enter number\n",
    "ch = input(\"Enter a single character: \")\n",
    "\n",
    "if len(ch) == 1 and ch.isalpha():\n",
    "    if ch.lower() in ['a', 'e', 'i', 'o', 'u']:\n",
    "        print(\"Vowel\")\n",
    "    else:\n",
    "        print(\"Consonant\")\n",
    "else:\n",
    "    print(\"Please enter valid alphabet\")"
   ]
  },
  {
   "cell_type": "code",
   "execution_count": null,
   "id": "d7c5613d-8d15-4b1f-8b0d-a4857e3ecbb2",
   "metadata": {},
   "outputs": [],
   "source": []
  }
 ],
 "metadata": {
  "kernelspec": {
   "display_name": "Python 3 (ipykernel)",
   "language": "python",
   "name": "python3"
  },
  "language_info": {
   "codemirror_mode": {
    "name": "ipython",
    "version": 3
   },
   "file_extension": ".py",
   "mimetype": "text/x-python",
   "name": "python",
   "nbconvert_exporter": "python",
   "pygments_lexer": "ipython3",
   "version": "3.12.7"
  }
 },
 "nbformat": 4,
 "nbformat_minor": 5
}
