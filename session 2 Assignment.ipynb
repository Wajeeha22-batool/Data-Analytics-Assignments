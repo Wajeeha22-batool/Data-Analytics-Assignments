{
 "cells": [
  {
   "cell_type": "code",
   "execution_count": null,
   "id": "b3e5d94d-fee7-4d13-b733-ff68a2d52d05",
   "metadata": {},
   "outputs": [],
   "source": [
    "# Question 1\n",
    "a = 15\n",
    "b = 4"
   ]
  },
  {
   "cell_type": "code",
   "execution_count": 2,
   "id": "54b99729-677a-4b15-b347-5ce4dcfa5060",
   "metadata": {},
   "outputs": [
    {
     "data": {
      "text/plain": [
       "19"
      ]
     },
     "execution_count": 2,
     "metadata": {},
     "output_type": "execute_result"
    }
   ],
   "source": [
    "a + b"
   ]
  },
  {
   "cell_type": "code",
   "execution_count": 3,
   "id": "1e65ea8a-f0bd-4d9d-9381-6bfd4577b095",
   "metadata": {},
   "outputs": [
    {
     "data": {
      "text/plain": [
       "11"
      ]
     },
     "execution_count": 3,
     "metadata": {},
     "output_type": "execute_result"
    }
   ],
   "source": [
    "a - b"
   ]
  },
  {
   "cell_type": "code",
   "execution_count": 4,
   "id": "d06bfdad-013c-47c6-8d25-33b60ec8477c",
   "metadata": {},
   "outputs": [
    {
     "data": {
      "text/plain": [
       "60"
      ]
     },
     "execution_count": 4,
     "metadata": {},
     "output_type": "execute_result"
    }
   ],
   "source": [
    "a * b"
   ]
  },
  {
   "cell_type": "code",
   "execution_count": 5,
   "id": "dc03ac67-0f8a-4eef-a168-7708530c7d31",
   "metadata": {},
   "outputs": [
    {
     "data": {
      "text/plain": [
       "3.75"
      ]
     },
     "execution_count": 5,
     "metadata": {},
     "output_type": "execute_result"
    }
   ],
   "source": [
    "15/4"
   ]
  },
  {
   "cell_type": "code",
   "execution_count": 6,
   "id": "90a1172e-38a5-4584-baa7-1cd2b003b89a",
   "metadata": {},
   "outputs": [
    {
     "data": {
      "text/plain": [
       "3"
      ]
     },
     "execution_count": 6,
     "metadata": {},
     "output_type": "execute_result"
    }
   ],
   "source": [
    "a//b"
   ]
  },
  {
   "cell_type": "code",
   "execution_count": 7,
   "id": "8db00317-55de-44ee-9be5-53a24d540d0d",
   "metadata": {},
   "outputs": [
    {
     "data": {
      "text/plain": [
       "3"
      ]
     },
     "execution_count": 7,
     "metadata": {},
     "output_type": "execute_result"
    }
   ],
   "source": [
    "a%b"
   ]
  },
  {
   "cell_type": "code",
   "execution_count": 8,
   "id": "4056e05c-5d7a-4a3e-a1df-95e5375a2182",
   "metadata": {},
   "outputs": [
    {
     "data": {
      "text/plain": [
       "10.0"
      ]
     },
     "execution_count": 8,
     "metadata": {},
     "output_type": "execute_result"
    }
   ],
   "source": [
    "# Question 2\n",
    "float(10)"
   ]
  },
  {
   "cell_type": "code",
   "execution_count": 9,
   "id": "e423016f-d8df-4885-85e9-89842e4b5193",
   "metadata": {},
   "outputs": [
    {
     "data": {
      "text/plain": [
       "5"
      ]
     },
     "execution_count": 9,
     "metadata": {},
     "output_type": "execute_result"
    }
   ],
   "source": [
    "int(5.6)"
   ]
  },
  {
   "cell_type": "code",
   "execution_count": 10,
   "id": "a019d562-406c-47b7-8633-79743d1dd482",
   "metadata": {},
   "outputs": [
    {
     "data": {
      "text/plain": [
       "'4.43'"
      ]
     },
     "execution_count": 10,
     "metadata": {},
     "output_type": "execute_result"
    }
   ],
   "source": [
    "str(4.43)"
   ]
  },
  {
   "cell_type": "code",
   "execution_count": 11,
   "id": "e8dddae3-27be-4b95-8782-55195221c8a5",
   "metadata": {},
   "outputs": [
    {
     "data": {
      "text/plain": [
       "23"
      ]
     },
     "execution_count": 11,
     "metadata": {},
     "output_type": "execute_result"
    }
   ],
   "source": [
    "int('23')"
   ]
  },
  {
   "cell_type": "code",
   "execution_count": 14,
   "id": "af2489c3-a0bb-4e5e-bf90-fe0e4e8d4acc",
   "metadata": {},
   "outputs": [
    {
     "data": {
      "text/plain": [
       "'Biryani'"
      ]
     },
     "execution_count": 14,
     "metadata": {},
     "output_type": "execute_result"
    }
   ],
   "source": [
    "# Question 3\n",
    "favourite_food = \"Biryani\"\n",
    "favourite_food"
   ]
  },
  {
   "cell_type": "code",
   "execution_count": 16,
   "id": "290652b4-0350-4ce1-8386-6f4be3881e0f",
   "metadata": {},
   "outputs": [
    {
     "name": "stdout",
     "output_type": "stream",
     "text": [
      "55\n"
     ]
    }
   ],
   "source": [
    "# Question 4\n",
    "Apple = 22\n",
    "Mangoes = 33\n",
    "Total = Apple + Mangoes\n",
    "print(Total)"
   ]
  },
  {
   "cell_type": "code",
   "execution_count": 18,
   "id": "8f2c306b-15ce-4c0d-a312-da73abe042a0",
   "metadata": {},
   "outputs": [],
   "source": [
    "# Question 5\n",
    "Name = \"Wajeeha\"\n",
    "Age = 22"
   ]
  },
  {
   "cell_type": "code",
   "execution_count": 19,
   "id": "153a51b3-5054-4d95-855c-dbb40f159c32",
   "metadata": {},
   "outputs": [
    {
     "data": {
      "text/plain": [
       "23"
      ]
     },
     "execution_count": 19,
     "metadata": {},
     "output_type": "execute_result"
    }
   ],
   "source": [
    "Age = Age + 1\n",
    "Age"
   ]
  },
  {
   "cell_type": "code",
   "execution_count": 20,
   "id": "5539f79d-f918-47b6-ba76-1b0c7cd9017d",
   "metadata": {},
   "outputs": [
    {
     "data": {
      "text/plain": [
       "3"
      ]
     },
     "execution_count": 20,
     "metadata": {},
     "output_type": "execute_result"
    }
   ],
   "source": [
    "# Question 6\n",
    "a = 2\n",
    "b = 1\n",
    "c = 6\n",
    "d = 3\n",
    "a + b"
   ]
  },
  {
   "cell_type": "code",
   "execution_count": 21,
   "id": "9cd7dcd8-74c2-4bac-8254-d847cfd6f085",
   "metadata": {},
   "outputs": [
    {
     "data": {
      "text/plain": [
       "4"
      ]
     },
     "execution_count": 21,
     "metadata": {},
     "output_type": "execute_result"
    }
   ],
   "source": [
    "c- a"
   ]
  },
  {
   "cell_type": "code",
   "execution_count": 22,
   "id": "206cb0f3-b770-4b05-a689-92886e868d9e",
   "metadata": {},
   "outputs": [
    {
     "data": {
      "text/plain": [
       "3"
      ]
     },
     "execution_count": 22,
     "metadata": {},
     "output_type": "execute_result"
    }
   ],
   "source": [
    "d * b"
   ]
  },
  {
   "cell_type": "code",
   "execution_count": 23,
   "id": "88b7fc58-1181-4847-837f-e167f26f97f1",
   "metadata": {},
   "outputs": [
    {
     "data": {
      "text/plain": [
       "2"
      ]
     },
     "execution_count": 23,
     "metadata": {},
     "output_type": "execute_result"
    }
   ],
   "source": [
    "c//d"
   ]
  },
  {
   "cell_type": "code",
   "execution_count": 24,
   "id": "01289aaa-9ce1-4775-a401-a74bf398624c",
   "metadata": {},
   "outputs": [
    {
     "data": {
      "text/plain": [
       "0"
      ]
     },
     "execution_count": 24,
     "metadata": {},
     "output_type": "execute_result"
    }
   ],
   "source": [
    "c%d"
   ]
  },
  {
   "cell_type": "code",
   "execution_count": 31,
   "id": "edaca599-e5d1-4866-b2b5-3c1cc9cd6347",
   "metadata": {},
   "outputs": [
    {
     "data": {
      "text/plain": [
       "25"
      ]
     },
     "execution_count": 31,
     "metadata": {},
     "output_type": "execute_result"
    }
   ],
   "source": [
    "(d+a)**2"
   ]
  },
  {
   "cell_type": "code",
   "execution_count": 32,
   "id": "12c7a025-cb14-485c-9e7b-9a747c52da47",
   "metadata": {},
   "outputs": [
    {
     "data": {
      "text/plain": [
       "25"
      ]
     },
     "execution_count": 32,
     "metadata": {},
     "output_type": "execute_result"
    }
   ],
   "source": [
    "pow((d+a),2)"
   ]
  },
  {
   "cell_type": "markdown",
   "id": "6169b572-188d-40f2-aaef-a072033a10b7",
   "metadata": {},
   "source": [
    "# Question 7"
   ]
  },
  {
   "cell_type": "code",
   "execution_count": 34,
   "id": "8f01dcc3-35f6-4d09-818d-426368d1ba31",
   "metadata": {},
   "outputs": [],
   "source": [
    "a = '2'\n",
    "b = '11'\n",
    "c = 6.3"
   ]
  },
  {
   "cell_type": "code",
   "execution_count": 35,
   "id": "34c74060-abf7-42cd-9e8e-bf4fd435d8a4",
   "metadata": {},
   "outputs": [
    {
     "data": {
      "text/plain": [
       "8.3"
      ]
     },
     "execution_count": 35,
     "metadata": {},
     "output_type": "execute_result"
    }
   ],
   "source": [
    "int(a) + c"
   ]
  },
  {
   "cell_type": "code",
   "execution_count": 36,
   "id": "c64ba832-2c46-4f1f-aabd-75cf9e5d9536",
   "metadata": {},
   "outputs": [
    {
     "data": {
      "text/plain": [
       "69.3"
      ]
     },
     "execution_count": 36,
     "metadata": {},
     "output_type": "execute_result"
    }
   ],
   "source": [
    "float(b) * c"
   ]
  },
  {
   "cell_type": "code",
   "execution_count": 37,
   "id": "83185556-bd90-49dc-a1bf-fa3a1bd89fe9",
   "metadata": {},
   "outputs": [
    {
     "data": {
      "text/plain": [
       "12.3"
      ]
     },
     "execution_count": 37,
     "metadata": {},
     "output_type": "execute_result"
    }
   ],
   "source": [
    "int(c) + c"
   ]
  },
  {
   "cell_type": "markdown",
   "id": "74654b78-31fb-4ce4-941d-0d92b91e1f09",
   "metadata": {},
   "source": [
    "# Question 8"
   ]
  },
  {
   "cell_type": "code",
   "execution_count": 47,
   "id": "adb1a8f5-4ec3-46ea-9ae4-92b8ceaa0f11",
   "metadata": {},
   "outputs": [
    {
     "data": {
      "text/plain": [
       "25"
      ]
     },
     "execution_count": 47,
     "metadata": {},
     "output_type": "execute_result"
    }
   ],
   "source": [
    "myAge = 20\n",
    "myAge += 5\n",
    "myAge"
   ]
  },
  {
   "cell_type": "markdown",
   "id": "f61ed4fd-1085-48c1-9000-2b9b3ca56250",
   "metadata": {},
   "source": [
    "# Question 9"
   ]
  },
  {
   "cell_type": "code",
   "execution_count": 57,
   "id": "fce5f0e8-7f6e-478c-822a-e64bc640b0a5",
   "metadata": {},
   "outputs": [
    {
     "data": {
      "text/plain": [
       "8"
      ]
     },
     "execution_count": 57,
     "metadata": {},
     "output_type": "execute_result"
    }
   ],
   "source": [
    "books = 12\n",
    "given_books = 4\n",
    "remaining_books = books - given_books\n",
    "remaining_books"
   ]
  },
  {
   "cell_type": "code",
   "execution_count": 61,
   "id": "0bdb7dc2-7666-484f-9817-63d0e05de0fd",
   "metadata": {},
   "outputs": [
    {
     "data": {
      "text/plain": [
       "8"
      ]
     },
     "execution_count": 61,
     "metadata": {},
     "output_type": "execute_result"
    }
   ],
   "source": [
    "books = 12\n",
    "books = books - 4\n",
    "books"
   ]
  },
  {
   "cell_type": "markdown",
   "id": "9989a91d-8531-4ce3-9584-3793ba3fbbff",
   "metadata": {},
   "source": [
    "# Question 10"
   ]
  },
  {
   "cell_type": "code",
   "execution_count": 60,
   "id": "c18febf6-cce4-479e-9dc1-e95ae60ee546",
   "metadata": {},
   "outputs": [
    {
     "data": {
      "text/plain": [
       "20"
      ]
     },
     "execution_count": 60,
     "metadata": {},
     "output_type": "execute_result"
    }
   ],
   "source": [
    "cookies = 5\n",
    "cookies = cookies * 4\n",
    "cookies"
   ]
  },
  {
   "cell_type": "code",
   "execution_count": 62,
   "id": "4ef615a7-4e91-4b71-b648-b8bff4a49acb",
   "metadata": {},
   "outputs": [
    {
     "name": "stdout",
     "output_type": "stream",
     "text": [
      "20\n"
     ]
    }
   ],
   "source": [
    "cookies = 5\n",
    "more_cookies = cookies * 3\n",
    "total_cookies = cookies + more_cookies\n",
    "print(total_cookies)\n"
   ]
  },
  {
   "cell_type": "code",
   "execution_count": null,
   "id": "bf7ece05-3870-456c-933b-76ba74089346",
   "metadata": {},
   "outputs": [],
   "source": []
  }
 ],
 "metadata": {
  "kernelspec": {
   "display_name": "Python 3 (ipykernel)",
   "language": "python",
   "name": "python3"
  },
  "language_info": {
   "codemirror_mode": {
    "name": "ipython",
    "version": 3
   },
   "file_extension": ".py",
   "mimetype": "text/x-python",
   "name": "python",
   "nbconvert_exporter": "python",
   "pygments_lexer": "ipython3",
   "version": "3.12.7"
  }
 },
 "nbformat": 4,
 "nbformat_minor": 5
}
