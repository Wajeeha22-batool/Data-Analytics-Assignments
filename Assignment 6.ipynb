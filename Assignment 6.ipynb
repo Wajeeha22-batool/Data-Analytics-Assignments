{
 "cells": [
  {
   "cell_type": "markdown",
   "id": "7e777340-fcd5-4c13-9ae0-e80ade2b8a3a",
   "metadata": {},
   "source": [
    "Q1. Write a Python program that prints the multiplication table for a given number (between 1 and 10) using a for loop.\n",
    "\n",
    "Hint:\n",
    "\n",
    "Ask the user for a number between 1 and 10 .\n",
    "Use a for loop to iterate through the numbers from 1 to 10.\n",
    "For each iteration, calculate the product of the given number and the current number in the loop.\n",
    "Print the result in a readable format (e.g., 5 x 1 = 5).\n",
    "Ensure the program works correctly for any number between 1 and 10.\n",
    "Output Hint:\n",
    "\n",
    "- 4 x 1 = 4\n",
    "- 4 x 2 = 8\n",
    "- 4 x 3 = 12\n",
    "- 4 x 4 = 16\n",
    "- 4 x 5 = 20\n",
    "- 4 x 6 = 24\n",
    "- 4 x 7 = 28\n",
    "- 4 x 8 = 32\n",
    "- 4 x 9 = 36\n",
    "- 4 x 10 = 40"
   ]
  },
  {
   "cell_type": "code",
   "execution_count": null,
   "id": "38678f31-4820-4e10-b21b-3edf46454e6d",
   "metadata": {},
   "outputs": [],
   "source": [
    "num = int(input(\"enter a number between 1 to 10: \"))\n",
    "for i in range(1,11):\n",
    "    print(f\"{num} x {i} = {num*i}\")"
   ]
  },
  {
   "cell_type": "markdown",
   "id": "93c6d6ba-b4ef-4284-a0e9-9db6eaf2a2cf",
   "metadata": {},
   "source": [
    "Q2. Stop sending emails after 3 users (Using for loop and break)\n",
    "\n",
    "users = [\"Ali\", \"Sara\", \"John\", \"Zara\", \"Mike\"]\n",
    "\n",
    "Output:\n",
    "\n",
    "Email sent to Ali\n",
    "\n",
    "Email sent to Sara\n",
    "\n",
    "Email sent to John\n",
    "\n",
    "Limit reached. Stop sending emails."
   ]
  },
  {
   "cell_type": "code",
   "execution_count": 10,
   "id": "eb9dc446-1db1-4ba8-9e51-67f9c442800a",
   "metadata": {},
   "outputs": [
    {
     "name": "stdout",
     "output_type": "stream",
     "text": [
      "email sent to Ali\n",
      "email sent to Sara\n",
      "email sent to John\n",
      "limit reached. stop sending emails.\n"
     ]
    }
   ],
   "source": [
    "users = [\"Ali\", \"Sara\", \"John\", \"Zara\", \"Mike\"]\n",
    "for user in users:\n",
    "    print(f\"email sent to {user}\")\n",
    "    if user == 'John':\n",
    "        print(f\"limit reached. stop sending emails.\") \n",
    "        break;"
   ]
  },
  {
   "cell_type": "markdown",
   "id": "fa38e056-f606-41d9-8748-2209cb4eaad7",
   "metadata": {},
   "source": [
    "Q3. Stop monitoring temperature if critical temperature reached (Using for loop and break)\n",
    "\n",
    "temps = [22, 25, 30, 45, 28]\n",
    "critical = 40\n",
    "\n",
    "Ouput:\n",
    "\n",
    "Temperature: 22\n",
    "\n",
    "Temperature: 25\n",
    "\n",
    "Temperature: 30\n",
    "\n",
    "Critical temperature reached! Stop monitoring."
   ]
  },
  {
   "cell_type": "code",
   "execution_count": 14,
   "id": "b7b46996-7809-4677-b885-92699ba8a08b",
   "metadata": {},
   "outputs": [
    {
     "name": "stdout",
     "output_type": "stream",
     "text": [
      "temperature : 22\n",
      "temperature : 25\n",
      "temperature : 30\n",
      "critical temperature reached! stop monitoring\n"
     ]
    }
   ],
   "source": [
    "temps = [22, 25, 30, 45, 28] \n",
    "critical = 40\n",
    "for temp in temps:\n",
    "    if temp >=40:\n",
    "        print(f\"critical temperature reached! stop monitoring\")\n",
    "        break\n",
    "    else:\n",
    "        print(f\"temperature : {temp}\")"
   ]
  },
  {
   "cell_type": "markdown",
   "id": "7f5bbc99-28e7-4866-b306-58221f72076c",
   "metadata": {},
   "source": [
    "Q4. Calculate total price of items in a shopping cart (Using For loop)\n",
    "\n",
    "cart = [100, 250, 50, 300]\n",
    "\n",
    "Output:\n",
    "\n",
    "Total Price: 700"
   ]
  },
  {
   "cell_type": "code",
   "execution_count": 27,
   "id": "8a5de39c-77c8-41da-a3d8-068e2504a994",
   "metadata": {},
   "outputs": [
    {
     "name": "stdout",
     "output_type": "stream",
     "text": [
      "total price is 700\n"
     ]
    }
   ],
   "source": [
    "cart = [100, 250, 50, 300]\n",
    "total = 0\n",
    "for price in cart:\n",
    "    total += price\n",
    "print(f\"total price is {total}\")"
   ]
  },
  {
   "cell_type": "markdown",
   "id": "d01d8825-6b0a-44f5-962f-f805700a8e08",
   "metadata": {},
   "source": [
    "Q5. Skip customers with unpaid bills (Using For loop and continue)\n",
    "\n",
    "customers = [\n",
    "    {\"name\": \"Ali\", \"paid\": True},\n",
    "    \n",
    "    {\"name\": \"Sara\", \"paid\": False},\n",
    "    \n",
    "    {\"name\": \"John\", \"paid\": True}\n",
    "]\n",
    "\n",
    "\n",
    "Output:\n",
    "\n",
    "Access granted to: Ali\n",
    "\n",
    "Access granted to: John\n"
   ]
  },
  {
   "cell_type": "code",
   "execution_count": 35,
   "id": "fc35a1f0-134d-4065-8fff-e7f9e704b6df",
   "metadata": {},
   "outputs": [
    {
     "name": "stdout",
     "output_type": "stream",
     "text": [
      "Access granted: Ali\n",
      "Access granted: John\n"
     ]
    }
   ],
   "source": [
    "customers = [\n",
    "    {\"name\": \"Ali\", \"paid\": True},\n",
    "    \n",
    "    {\"name\": \"Sara\", \"paid\": False},\n",
    "    \n",
    "    {\"name\": \"John\", \"paid\": True}\n",
    "]\n",
    "for customer in customers:\n",
    "    if not customer [\"paid\"]: # not reverse the boolaen \n",
    "        continue # skip if false \n",
    "    else:\n",
    "        print(f\"Access granted:\" , customer [\"name\"])"
   ]
  },
  {
   "cell_type": "markdown",
   "id": "f6cfe812-c319-40e5-ac17-cef6e72488dd",
   "metadata": {},
   "source": [
    "Q6. Send personalized emails to a list of users (Using for loop)\n",
    "\n",
    "users = [\"Ali\", \"Sara\", \"John\"]\n",
    "\n",
    "Output:\n",
    "\n",
    "- Hello Ali, your subscription is active!\n",
    "- Hello Sara, your subscription is active!\n",
    "- Hello John, your subscription is active!\n"
   ]
  },
  {
   "cell_type": "code",
   "execution_count": 37,
   "id": "ceff4bb5-1d2f-4793-a06d-0de3fac4bb72",
   "metadata": {},
   "outputs": [
    {
     "name": "stdout",
     "output_type": "stream",
     "text": [
      "Hello Ali, your subscription is active!\n",
      "Hello Sara, your subscription is active!\n",
      "Hello John, your subscription is active!\n"
     ]
    }
   ],
   "source": [
    "users = [\"Ali\", \"Sara\", \"John\"]\n",
    "for user in users:\n",
    "    print(f\"Hello {user}, your subscription is active!\")"
   ]
  },
  {
   "cell_type": "markdown",
   "id": "8ac2616e-f0fb-433f-a1c5-0adf73e50429",
   "metadata": {},
   "source": [
    "Q7. Extract domain names from email list (Using for loop)\n",
    "\n",
    "emails = [\"ali@gmail.com\", \"sara@yahoo.com\", \"john@hotmail.com\"]\n",
    "\n",
    "Output:\n",
    "\n",
    "domains: ['gmail.com', 'yahoo.com', 'hotmail.com']\n"
   ]
  },
  {
   "cell_type": "code",
   "execution_count": 40,
   "id": "339ce3a7-9e3f-449a-887a-6e7e29eeff46",
   "metadata": {},
   "outputs": [
    {
     "name": "stdout",
     "output_type": "stream",
     "text": [
      "domains: gmail.com\n",
      "domains: yahoo.com\n",
      "domains: hotmail.com\n"
     ]
    }
   ],
   "source": [
    "emails = [\"ali@gmail.com\", \"sara@yahoo.com\", \"john@hotmail.com\"]\n",
    "domains = []\n",
    "for email in emails:\n",
    "    domain = email.split(\"@\")[1]\n",
    "    domains.append(domain)\n",
    "    print(\"domains:\" , domain)"
   ]
  },
  {
   "cell_type": "markdown",
   "id": "bc118672-58b5-44e3-8895-0685921efdda",
   "metadata": {},
   "source": [
    "Q8. Print only overdue tasks (Using for loop)\n",
    "\n",
    "tasks = [\n",
    "    {\"task\": \"Pay bills\", \"status\": \"done\"},\n",
    "    \n",
    "    {\"task\": \"Submit report\", \"status\": \"pending\"},\n",
    "    \n",
    "    {\"task\": \"Clean house\", \"status\": \"pending\"}\n",
    "]\n",
    "\n",
    "\n",
    "Ouput:\n",
    "\n",
    "Overdue: Submit report\n",
    "\n",
    "Overdue: Clean house"
   ]
  },
  {
   "cell_type": "code",
   "execution_count": 43,
   "id": "46f3650a-fea0-4120-a099-459c34b6cd73",
   "metadata": {},
   "outputs": [
    {
     "name": "stdout",
     "output_type": "stream",
     "text": [
      "overdue: Submit report\n",
      "overdue: Clean house\n"
     ]
    }
   ],
   "source": [
    "tasks = [ {\"task\": \"Pay bills\", \"status\": \"done\"},\n",
    "\n",
    "{\"task\": \"Submit report\", \"status\": \"pending\"},\n",
    "\n",
    "{\"task\": \"Clean house\", \"status\": \"pending\"}\n",
    "]\n",
    "for task in tasks:\n",
    "    if task[\"status\"] == \"pending\":\n",
    "        print(\"overdue:\", task[\"task\"])"
   ]
  },
  {
   "cell_type": "markdown",
   "id": "c3d3986b-d13f-4afd-829d-b7b1a6f8a526",
   "metadata": {},
   "source": [
    "Q9. Extract names of employees with salary above 50,000\n",
    "\n",
    "employees = [\n",
    "    {\"name\": \"Ali\", \"salary\": 60000},\n",
    "    \n",
    "    {\"name\": \"Sara\", \"salary\": 45000},\n",
    "    \n",
    "    {\"name\": \"John\", \"salary\": 70000}\n",
    "]\n",
    "\n",
    "\n",
    "Output:\n",
    "\n",
    "Ali earns above 50,000\n",
    "\n",
    "John earns above 50,000"
   ]
  },
  {
   "cell_type": "code",
   "execution_count": 56,
   "id": "02b0c513-e08c-4257-9273-06952381ef89",
   "metadata": {},
   "outputs": [
    {
     "name": "stdout",
     "output_type": "stream",
     "text": [
      "Ali earns above 50,000\n",
      "  \n",
      "John earns above 50,000\n"
     ]
    }
   ],
   "source": [
    "employees = [ {\"name\": \"Ali\", \"salary\": 60000},\n",
    "\n",
    "{\"name\": \"Sara\", \"salary\": 45000},\n",
    "\n",
    "{\"name\": \"John\", \"salary\": 70000}\n",
    "]\n",
    "for employee in employees:\n",
    "    if employee[\"salary\"] >= 50000:\n",
    "        print(employee[\"name\"], f\"earns above\", \"50,000\")\n",
    "    else:\n",
    "        print(\"  \")"
   ]
  },
  {
   "cell_type": "markdown",
   "id": "f1db4dfb-ea09-4b1b-9383-28d7a5253f06",
   "metadata": {},
   "source": [
    "Q10. Skip weekends while printing workdays (Using for loop and continue)\n",
    "\n",
    "days = [\"Monday\", \"Tuesday\", \"Wednesday\", \"Thursday\", \"Friday\", \"Saturday\", \"Sunday\"]\n",
    "\n",
    "Output:\n",
    "\n",
    "Workday: Monday\n",
    "\n",
    "Workday: Tuesday\n",
    "\n",
    "Workday: Wednesday\n",
    "\n",
    "Workday: Thursday\n",
    "\n",
    "Workday: Friday\n"
   ]
  },
  {
   "cell_type": "code",
   "execution_count": 72,
   "id": "3909f284-36f9-401d-95b9-83d2a1b65f71",
   "metadata": {},
   "outputs": [
    {
     "name": "stdout",
     "output_type": "stream",
     "text": [
      "workday: ['Monday']\n",
      "workday: ['Tuesday']\n",
      "workday: ['Wednesday']\n",
      "workday: ['Thursday']\n",
      "workday: ['Friday']\n"
     ]
    }
   ],
   "source": [
    "days = [\"Monday\", \"Tuesday\", \"Wednesday\", \"Thursday\", \"Friday\", \"Saturday\", \"Sunday\"]\n",
    "for day in days:\n",
    "    if day in [\"Saturday\" ,\"Sunday\"]:\n",
    "        continue\n",
    "    print(\"workday:\", [day])"
   ]
  }
 ],
 "metadata": {
  "kernelspec": {
   "display_name": "Python 3 (ipykernel)",
   "language": "python",
   "name": "python3"
  },
  "language_info": {
   "codemirror_mode": {
    "name": "ipython",
    "version": 3
   },
   "file_extension": ".py",
   "mimetype": "text/x-python",
   "name": "python",
   "nbconvert_exporter": "python",
   "pygments_lexer": "ipython3",
   "version": "3.12.7"
  }
 },
 "nbformat": 4,
 "nbformat_minor": 5
}
